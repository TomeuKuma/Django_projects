{
 "cells": [
  {
   "cell_type": "code",
   "execution_count": 6,
   "id": "f155782d",
   "metadata": {},
   "outputs": [],
   "source": [
    "import csv\n",
    "import os\n",
    "\n",
    "def transformar_correcta(valor):\n",
    "    \"\"\"Transforma la letra de la respuesta correcta en un valor numérico.\"\"\"\n",
    "    mapeo = {'a': 1, 'b': 2, 'c': 3, 'd': 4}\n",
    "    return mapeo.get(valor.lower(), 0)  # Devuelve 0 si no encuentra la clave\n",
    "\n",
    "def procesar_archivo_txt(archivo_txt):\n",
    "    \"\"\"Procesa un archivo .txt y devuelve una lista de datos procesados.\"\"\"\n",
    "    datos_procesados = []\n",
    "    nombre_normativa = os.path.splitext(os.path.basename(archivo_txt))[0]  # Nombre del archivo sin la extensión\n",
    "    \n",
    "    with open(archivo_txt, 'r', encoding='utf-8') as file:\n",
    "        lineas = file.readlines()\n",
    "\n",
    "    for i, linea in enumerate(lineas, start=1):\n",
    "        try:\n",
    "            # Asumiendo que el archivo .txt está bien formateado y separado por comas\n",
    "            partes = linea.strip().split('\", \"')\n",
    "            if len(partes) == 7:  # Asegurarse de que la línea tiene todos los campos\n",
    "                pregunta, respuesta_a, respuesta_b, respuesta_c, respuesta_d, correcta, justificacion = partes\n",
    "                # Limpiar las comillas iniciales y finales\n",
    "                pregunta = pregunta.strip('\"')\n",
    "                justificacion = justificacion.strip('\"')\n",
    "                # Transformar el campo \"correcta\"\n",
    "                correcta_numerica = transformar_correcta(correcta)\n",
    "                # Añadir la normativa al final de la línea procesada\n",
    "                datos_procesados.append([pregunta, respuesta_a, respuesta_b, respuesta_c, respuesta_d, correcta_numerica, justificacion, nombre_normativa])\n",
    "            else:\n",
    "                print(f\"Formato incorrecto en la línea {i} del archivo {archivo_txt}: {linea.strip()}\")\n",
    "        except Exception as e:\n",
    "            print(f\"Error al procesar la línea {i} del archivo {archivo_txt}: {linea.strip()}\\nDetalles del error: {e}\")\n",
    "\n",
    "    return datos_procesados\n",
    "\n",
    "def guardar_datos_en_csv(datos_totales, archivo_csv):\n",
    "    \"\"\"Guarda todos los datos procesados en un archivo .csv sin encabezado.\"\"\"\n",
    "    with open(archivo_csv, 'w', newline='', encoding='utf-8') as file:\n",
    "        escritor_csv = csv.writer(file)\n",
    "        # No escribir encabezado como se solicitó\n",
    "        escritor_csv.writerows(datos_totales)  # Escribir todas las líneas de datos\n",
    "\n",
    "def main():\n",
    "    # Obtener la ruta del directorio actual\n",
    "    directorio_actual = os.getcwd()\n",
    "    print(f\"Directorio actual: {directorio_actual}\")\n",
    "    \n",
    "    # Listar todos los archivos .txt en el directorio actual\n",
    "    archivos_txt = [archivo for archivo in os.listdir(directorio_actual) if archivo.endswith('.txt')]\n",
    "    \n",
    "    # Procesar todos los archivos .txt y combinar los datos\n",
    "    datos_totales = []\n",
    "    for archivo_txt in archivos_txt:\n",
    "        ruta_archivo = os.path.join(directorio_actual, archivo_txt)\n",
    "        print(f\"Procesando archivo: {archivo_txt}\")\n",
    "        datos_procesados = procesar_archivo_txt(ruta_archivo)\n",
    "        datos_totales.extend(datos_procesados)\n",
    "    \n",
    "    # Guardar todos los datos procesados en un único archivo .csv\n",
    "    archivo_csv = os.path.join(directorio_actual, 'preguntas_procesadas.csv')\n",
    "    guardar_datos_en_csv(datos_totales, archivo_csv)\n",
    "    print(f\"Se han procesado {len(archivos_txt)} archivos .txt y los datos se han guardado en {archivo_csv}.\")\n"
   ]
  },
  {
   "cell_type": "code",
   "execution_count": 7,
   "id": "c37a882b",
   "metadata": {},
   "outputs": [
    {
     "name": "stdout",
     "output_type": "stream",
     "text": [
      "Directorio actual: C:\\Users\\Kuma\\Documents\\Django_projects\\Opositorium\\preguntas_txt\n",
      "Se han procesado 6 archivos .txt y los datos se han guardado en C:\\Users\\Kuma\\Documents\\Django_projects\\Opositorium\\preguntas_txt\\preguntas_procesadas.csv.\n"
     ]
    }
   ],
   "source": [
    "main()"
   ]
  }
 ],
 "metadata": {
  "kernelspec": {
   "display_name": "Python 3 (ipykernel)",
   "language": "python",
   "name": "python3"
  },
  "language_info": {
   "codemirror_mode": {
    "name": "ipython",
    "version": 3
   },
   "file_extension": ".py",
   "mimetype": "text/x-python",
   "name": "python",
   "nbconvert_exporter": "python",
   "pygments_lexer": "ipython3",
   "version": "3.9.12"
  }
 },
 "nbformat": 4,
 "nbformat_minor": 5
}
